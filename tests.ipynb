{
 "cells": [
  {
   "cell_type": "code",
   "execution_count": null,
   "metadata": {},
   "outputs": [],
   "source": [
    "import random\n",
    "\n",
    "def randomDoor(initialDoorSet):\n",
    "    doorList = list(initialDoorSet)\n",
    "    print(type(doorList),doorList)\n",
    "    random.shuffle(doorList)\n",
    "    RandDoor = doorList.pop(0)\n",
    "    return RandDoor\n",
    "\n",
    "def openUnchosedDoorWithNocar(initialDoorSet,putCarIn,chooseDoor):\n",
    "    doorset = initialDoorSet - (putCarIn | chooseDoor)\n",
    "    doorList = list(doorset)\n",
    "    random.shuffle(doorList)\n",
    "    RandDoor = doorList.pop(0)\n",
    "    return RandDoor\n",
    "\n",
    "def MontiHallExperiment66():\n",
    "\n",
    "    initialDoorSet = {'X','Y','Z'}\n",
    "    print(\"there are 3 doors\", initialDoorSet)\n",
    "\n",
    "    putCarIn = randomDoor(initialDoorSet)\n",
    "    chooseDoor = randomDoor(initialDoorSet)\n",
    "    print(\"Out of them we choose door \", chooseDoor)\n",
    "\n",
    "    openDoor = openUnchosedDoorWithNocar(initialDoorSe=initialDoorSet,putCarIn=set(putCarIn),chooseDoor=set(chooseDoor))\n",
    "    print(\"The host then opens the door \" ,openDoor,\" which was empty.\")\n",
    "    print(\"The host then offers us as choice to changes our initial answer\\nWe decided to change our choice\")\n",
    "    \n",
    "    openDoor = initialDoorSet - chooseDoor - openDoor\n",
    "    print(\"Now, we choose to open door \",openDoor)\n",
    "    # check if sets check if open door and are same\n",
    "\n",
    "    if(openDoor == chooseDoor ):\n",
    "        print(\"CONGRATULATION!! YOU WON A CAR\")\n",
    "        return True\n",
    "    else:\n",
    "        print(\"sorry you didn't win\")\n",
    "        return False\n",
    "\n",
    "\n",
    "\n",
    "\n",
    "\n",
    "    \n",
    "\n",
    "\n"
   ]
  },
  {
   "cell_type": "code",
   "execution_count": 4,
   "metadata": {},
   "outputs": [
    {
     "name": "stdout",
     "output_type": "stream",
     "text": [
      "['Z', 'Y', 'X']\n",
      "{'Y', 'Z', 'X'}\n"
     ]
    }
   ],
   "source": [
    "\n",
    "import random\n",
    "\n",
    "my_set = {'X','Y','Z'}\n",
    "\n",
    "# Convert to a list for shuffling\n",
    "shuffled_list = list(my_set)\n",
    "random.shuffle(shuffled_list)\n",
    "\n",
    "# Convert back to a set (if needed)\n",
    "shuffled_set = set(shuffled_list)\n",
    "\n",
    "print(shuffled_list)  # Output: Shuffled list, e.g., [3, 1, 5, 2, 4]\n",
    "print(shuffled_set)   # Output: Shuffled set (order is not preserved), e.g., {1, 2, 3, 4, 5}\n"
   ]
  },
  {
   "cell_type": "code",
   "execution_count": 6,
   "metadata": {},
   "outputs": [
    {
     "name": "stdout",
     "output_type": "stream",
     "text": [
      "{1, 2, 3}\n"
     ]
    }
   ],
   "source": [
    "myset = {1,2,3}\n",
    "\n",
    "myset.add(2)\n",
    "\n",
    "\n",
    "myset.add(2)\n",
    "\n",
    "myset.add(2)\n",
    "\n",
    "print(myset)"
   ]
  },
  {
   "cell_type": "code",
   "execution_count": 18,
   "metadata": {},
   "outputs": [
    {
     "name": "stdout",
     "output_type": "stream",
     "text": [
      "<class 'list'> ['Y', 'Z', 'X']\n",
      "<class 'set'> {'X'}\n"
     ]
    }
   ],
   "source": [
    "import random\n",
    "\n",
    "def randomDoor(initialDoorSet):\n",
    "    doorList = list(initialDoorSet)\n",
    "    print(type(doorList),doorList)\n",
    "    random.shuffle(doorList)\n",
    "    RandDoor = set(doorList.pop(0))\n",
    "    return RandDoor\n",
    "\n",
    "def MontiHallexperiment():\n",
    "    #there are 3 doors present \n",
    "    initialDoorSet = {'Y', 'Z', 'X'}\n",
    "    #door set is initially an empty set of doors \n",
    "    doorSet = {}\n",
    "    \n",
    "    putCarIn = randomDoor(initialDoorSet)\n",
    "    print(type(putCarIn),putCarIn)\n",
    "\n",
    "\n",
    "MontiHallexperiment()\n",
    "    \n"
   ]
  },
  {
   "cell_type": "code",
   "execution_count": 23,
   "metadata": {},
   "outputs": [
    {
     "name": "stdout",
     "output_type": "stream",
     "text": [
      "{1, 2, 3, 4, 5, 6}\n",
      "{1, 4, 5}\n"
     ]
    }
   ],
   "source": [
    "set1 = {1,2,3,4,5,6,6}\n",
    "set2 = {3,7,6}\n",
    "set3 = {2,3,8}\n",
    "print(set1)\n",
    "set1 = set1- set2 -set3\n",
    "\n",
    "print(set1)"
   ]
  }
 ],
 "metadata": {
  "kernelspec": {
   "display_name": "Python 3",
   "language": "python",
   "name": "python3"
  },
  "language_info": {
   "codemirror_mode": {
    "name": "ipython",
    "version": 3
   },
   "file_extension": ".py",
   "mimetype": "text/x-python",
   "name": "python",
   "nbconvert_exporter": "python",
   "pygments_lexer": "ipython3",
   "version": "3.12.0"
  }
 },
 "nbformat": 4,
 "nbformat_minor": 2
}
